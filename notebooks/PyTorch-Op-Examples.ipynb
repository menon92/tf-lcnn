{
 "cells": [
  {
   "cell_type": "code",
   "execution_count": 2,
   "id": "a2dfd16d",
   "metadata": {},
   "outputs": [
    {
     "data": {
      "text/plain": [
       "'1.9.0+cpu'"
      ]
     },
     "execution_count": 2,
     "metadata": {},
     "output_type": "execute_result"
    }
   ],
   "source": [
    "import torch\n",
    "\n",
    "torch.__version__"
   ]
  },
  {
   "cell_type": "code",
   "execution_count": 3,
   "id": "4376ca49",
   "metadata": {},
   "outputs": [
    {
     "name": "stdout",
     "output_type": "stream",
     "text": [
      "tensor([[[  1.,   2.],\n",
      "         [  3.,  -4.]],\n",
      "\n",
      "        [[  5.,   6.],\n",
      "         [  7.,  -8.]],\n",
      "\n",
      "        [[  9.,  10.],\n",
      "         [ 11., -12.]]])\n",
      "torch.Size([3, 2, 2])\n",
      "<class 'torch.Tensor'>\n"
     ]
    }
   ],
   "source": [
    "output = torch.tensor([\n",
    "    [[1., 2.], [3., -4.]],\n",
    "    [[5., 6.], [7., -8.]],\n",
    "    [[9., 10.], [11., -12.]],\n",
    "    \n",
    "])\n",
    "print(output)\n",
    "print(output.shape)\n",
    "print(type(output))"
   ]
  },
  {
   "cell_type": "code",
   "execution_count": 16,
   "id": "c1a80e69",
   "metadata": {},
   "outputs": [],
   "source": [
    "y = output.transpose(0, 1)"
   ]
  },
  {
   "cell_type": "code",
   "execution_count": 17,
   "id": "75ada434",
   "metadata": {},
   "outputs": [
    {
     "data": {
      "text/plain": [
       "140478057927040"
      ]
     },
     "execution_count": 17,
     "metadata": {},
     "output_type": "execute_result"
    }
   ],
   "source": [
    "id(output)"
   ]
  },
  {
   "cell_type": "code",
   "execution_count": 18,
   "id": "da775f99",
   "metadata": {},
   "outputs": [
    {
     "data": {
      "text/plain": [
       "140478058041216"
      ]
     },
     "execution_count": 18,
     "metadata": {},
     "output_type": "execute_result"
    }
   ],
   "source": [
    "id(y)"
   ]
  },
  {
   "cell_type": "markdown",
   "id": "3b6a0d51",
   "metadata": {},
   "source": [
    "## [PyTorch what contiguous do ?](https://stackoverflow.com/a/52229694)"
   ]
  },
  {
   "cell_type": "code",
   "execution_count": 59,
   "id": "5ab81b01",
   "metadata": {},
   "outputs": [],
   "source": [
    "m = torch.Tensor([[1, 2], [3, 4]])\n",
    "y = torch.transpose(m, 0, 1)\n",
    "y_contg = torch.transpose(m, 0, 1).contiguous()"
   ]
  },
  {
   "cell_type": "code",
   "execution_count": 60,
   "id": "79b7e608",
   "metadata": {},
   "outputs": [
    {
     "name": "stdout",
     "output_type": "stream",
     "text": [
      "(0, 0) m:94546654505792, y:94546654505792, y contg:94546654504384\n",
      "(0, 1) m:94546654505796, y:94546654505800, y contg:94546654504388\n",
      "(1, 0) m:94546654505800, y:94546654505796, y contg:94546654504392\n",
      "(1, 1) m:94546654505804, y:94546654505804, y contg:94546654504396\n"
     ]
    }
   ],
   "source": [
    "for i in range(2):\n",
    "    for j in range(2):\n",
    "        print(f\"{i, j} m:{m[i][j].data_ptr()}, y:{y[i][j].data_ptr()}, y contg:{y_contg[i][j].data_ptr()}\")"
   ]
  },
  {
   "cell_type": "code",
   "execution_count": null,
   "id": "f4564967",
   "metadata": {},
   "outputs": [],
   "source": []
  },
  {
   "cell_type": "code",
   "execution_count": 51,
   "id": "68e1441e",
   "metadata": {},
   "outputs": [
    {
     "name": "stdout",
     "output_type": "stream",
     "text": [
      "94546654492032\n",
      "94546654492032\n"
     ]
    }
   ],
   "source": [
    "print(matrix.data_ptr())\n",
    "print(y.data_ptr())"
   ]
  },
  {
   "cell_type": "code",
   "execution_count": null,
   "id": "d81ca46a",
   "metadata": {},
   "outputs": [],
   "source": []
  }
 ],
 "metadata": {
  "kernelspec": {
   "display_name": "Python 3",
   "language": "python",
   "name": "python3"
  },
  "language_info": {
   "codemirror_mode": {
    "name": "ipython",
    "version": 3
   },
   "file_extension": ".py",
   "mimetype": "text/x-python",
   "name": "python",
   "nbconvert_exporter": "python",
   "pygments_lexer": "ipython3",
   "version": "3.8.8"
  }
 },
 "nbformat": 4,
 "nbformat_minor": 5
}
